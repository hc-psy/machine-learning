{
 "cells": [
  {
   "cell_type": "markdown",
   "metadata": {},
   "source": [
    "# Decision Stump"
   ]
  },
  {
   "cell_type": "code",
   "execution_count": 2,
   "metadata": {},
   "outputs": [],
   "source": [
    "# libraries\n",
    "import numpy as np\n",
    "import random"
   ]
  },
  {
   "cell_type": "code",
   "execution_count": 27,
   "metadata": {},
   "outputs": [],
   "source": [
    "class DS():\n",
    "    def __init__(self, n, tau): #tau is probability of noise\n",
    "        self.n = n\n",
    "        self.tau = tau\n",
    "    \n",
    "    def signf(self, val):\n",
    "        return -1 if val <= 0 else 1\n",
    "    \n",
    "    def data_generator(self, n):\n",
    "        if n == 1:\n",
    "            n = self.n\n",
    "        else:\n",
    "            n = 100000\n",
    "        dta = np.zeros((n,2))\n",
    "        for i in range(n):\n",
    "            x = random.uniform(-1,1)\n",
    "            y = self.signf(x)\n",
    "            y *= -1 if random.random() <= self.tau else 1\n",
    "            dta[i] = [x,y]\n",
    "        return dta\n",
    "    \n",
    "    def theta_generator(self, dta):\n",
    "        xslist = np.sort(dta[:,0])\n",
    "        thetalist = np.zeros((self.n,1))\n",
    "        for i in range(self.n-1):\n",
    "            thetalist[i+1] = (xslist[i]+xslist[i+1])/2\n",
    "        thetalist[0] = -1\n",
    "        return thetalist          \n",
    "    \n",
    "    def e_out(self, hypothesis): #simulation solution\n",
    "        eoutdta = self.data_generator(0)\n",
    "        s = hypothesis[0]\n",
    "        theta = hypothesis[1]\n",
    "        delta = eoutdta[:,1]*np.sign(eoutdta[:,0]-theta)\n",
    "        e_out_error = (100000 - np.sum(s*delta))/(200000)\n",
    "        return e_out_error\n",
    "    \n",
    "    def e_out_a(self, hypothesis): #analytical solution\n",
    "        if hypothesis[0] > 0:\n",
    "            mu = abs(hypothesis[1])/2\n",
    "        else:\n",
    "            mu = 1-abs(hypothesis[1])/2\n",
    "        return mu*(1-self.tau)+(1-mu)*self.tau\n",
    "            \n",
    "    def experiments(self):\n",
    "        diff_sum = []\n",
    "        for exp in range(10000):\n",
    "            dta = self.data_generator(1)\n",
    "            theta = self.theta_generator(dta)\n",
    "            e_in_table = np.zeros((2, self.n))\n",
    "            e_in_min = float(\"inf\")\n",
    "            hypothesis = [-2,-2]\n",
    "            for i in range(self.n):\n",
    "                # if different sign = -1; same sign = +1\n",
    "                delta = dta[:,1]*np.sign(dta[:,0]-theta[i])\n",
    "                # 1-delta/2: if different sign = 1; same sign = 0\n",
    "                e_in_table[0][i] = (self.n - np.sum(-delta)) / (2 * self.n)\n",
    "                e_in_table[1][i] = (self.n - np.sum(delta)) / (2 * self.n)\n",
    "                '''\n",
    "                for dynamic programming, we can add or minus 1 throughout each (x,y)\n",
    "                '''\n",
    "                #have been averaged\n",
    "                if e_in_table[0][i] < e_in_min:\n",
    "                    e_in_min = e_in_table[0][i]\n",
    "                    hypothesis[0] = -1\n",
    "                    hypothesis[1] = theta[i]\n",
    "                if e_in_table[1][i] < e_in_min:\n",
    "                    e_in_min = e_in_table[1][i]\n",
    "                    hypothesis[0] = 1\n",
    "                    hypothesis[1] = theta[i]                \n",
    "            diff_sum.append(self.e_out_a(hypothesis)-e_in_min)\n",
    "        print(np.mean(diff_sum))"
   ]
  },
  {
   "cell_type": "markdown",
   "metadata": {},
   "source": [
    "# Problem 16"
   ]
  },
  {
   "cell_type": "code",
   "execution_count": 43,
   "metadata": {},
   "outputs": [],
   "source": [
    "Q16 = DS(2,0)"
   ]
  },
  {
   "cell_type": "code",
   "execution_count": 44,
   "metadata": {},
   "outputs": [
    {
     "name": "stdout",
     "output_type": "stream",
     "text": [
      "0.29252152810820115\n"
     ]
    }
   ],
   "source": [
    "Q16.experiments()"
   ]
  },
  {
   "cell_type": "markdown",
   "metadata": {},
   "source": [
    "# Problem 17"
   ]
  },
  {
   "cell_type": "code",
   "execution_count": 45,
   "metadata": {},
   "outputs": [],
   "source": [
    "Q17 = DS(20,0)"
   ]
  },
  {
   "cell_type": "code",
   "execution_count": 46,
   "metadata": {},
   "outputs": [
    {
     "name": "stdout",
     "output_type": "stream",
     "text": [
      "0.023852933994112722\n"
     ]
    }
   ],
   "source": [
    "Q17.experiments()"
   ]
  },
  {
   "cell_type": "markdown",
   "metadata": {},
   "source": [
    "# Problem 18"
   ]
  },
  {
   "cell_type": "code",
   "execution_count": 47,
   "metadata": {},
   "outputs": [],
   "source": [
    "Q18 = DS(2,0.1)"
   ]
  },
  {
   "cell_type": "code",
   "execution_count": 48,
   "metadata": {},
   "outputs": [
    {
     "name": "stdout",
     "output_type": "stream",
     "text": [
      "0.3701313008841667\n"
     ]
    }
   ],
   "source": [
    "Q18.experiments()"
   ]
  },
  {
   "cell_type": "markdown",
   "metadata": {},
   "source": [
    "# Problem 19"
   ]
  },
  {
   "cell_type": "code",
   "execution_count": 49,
   "metadata": {},
   "outputs": [],
   "source": [
    "Q19 = DS(20, 0.1)"
   ]
  },
  {
   "cell_type": "code",
   "execution_count": 50,
   "metadata": {},
   "outputs": [
    {
     "name": "stdout",
     "output_type": "stream",
     "text": [
      "0.05064484609972458\n"
     ]
    }
   ],
   "source": [
    "Q19.experiments()"
   ]
  },
  {
   "cell_type": "markdown",
   "metadata": {},
   "source": [
    "# Problem 20"
   ]
  },
  {
   "cell_type": "code",
   "execution_count": 40,
   "metadata": {},
   "outputs": [],
   "source": [
    "Q20 = DS(200,0.1)"
   ]
  },
  {
   "cell_type": "code",
   "execution_count": 42,
   "metadata": {},
   "outputs": [
    {
     "name": "stdout",
     "output_type": "stream",
     "text": [
      "0.0050604254939029016\n"
     ]
    }
   ],
   "source": [
    "Q20.experiments()"
   ]
  },
  {
   "cell_type": "code",
   "execution_count": null,
   "metadata": {},
   "outputs": [],
   "source": []
  }
 ],
 "metadata": {
  "kernelspec": {
   "display_name": "Python 3",
   "language": "python",
   "name": "python3"
  },
  "language_info": {
   "codemirror_mode": {
    "name": "ipython",
    "version": 3
   },
   "file_extension": ".py",
   "mimetype": "text/x-python",
   "name": "python",
   "nbconvert_exporter": "python",
   "pygments_lexer": "ipython3",
   "version": "3.7.4"
  }
 },
 "nbformat": 4,
 "nbformat_minor": 2
}
