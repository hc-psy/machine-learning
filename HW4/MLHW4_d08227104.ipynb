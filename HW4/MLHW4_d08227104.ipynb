{
 "cells": [
  {
   "cell_type": "code",
   "execution_count": 1,
   "metadata": {},
   "outputs": [],
   "source": [
    "import numpy as np\n",
    "import scipy\n",
    "from liblinearutil import *"
   ]
  },
  {
   "cell_type": "markdown",
   "metadata": {},
   "source": [
    "# Data Preprocessing"
   ]
  },
  {
   "cell_type": "code",
   "execution_count": 2,
   "metadata": {},
   "outputs": [],
   "source": [
    "# data loading\n",
    "traindta = np.loadtxt(\"hw4_train.dat\", dtype=np.float, delimiter=' ')\n",
    "train_x = traindta[:, 0:6]\n",
    "train_y = traindta[:, 6]"
   ]
  },
  {
   "cell_type": "code",
   "execution_count": 3,
   "metadata": {},
   "outputs": [],
   "source": [
    "# data loading\n",
    "testdta = np.loadtxt(\"hw4_test.dat\", dtype=np.float, delimiter=' ')\n",
    "test_x = testdta[:, 0:6]\n",
    "test_y = testdta[:, 6]"
   ]
  },
  {
   "cell_type": "code",
   "execution_count": 4,
   "metadata": {},
   "outputs": [],
   "source": [
    "# feature tranformation\n",
    "from sklearn.preprocessing import PolynomialFeatures\n",
    "poly = PolynomialFeatures(2)\n",
    "train_tx = poly.fit_transform(train_x)\n",
    "test_tx = poly.fit_transform(test_x)"
   ]
  },
  {
   "cell_type": "code",
   "execution_count": 5,
   "metadata": {},
   "outputs": [
    {
     "data": {
      "text/plain": [
       "(200, 28)"
      ]
     },
     "execution_count": 5,
     "metadata": {},
     "output_type": "execute_result"
    }
   ],
   "source": [
    "np.shape(train_tx)"
   ]
  },
  {
   "cell_type": "code",
   "execution_count": 6,
   "metadata": {},
   "outputs": [
    {
     "data": {
      "text/plain": [
       "(300, 28)"
      ]
     },
     "execution_count": 6,
     "metadata": {},
     "output_type": "execute_result"
    }
   ],
   "source": [
    "np.shape(test_tx)"
   ]
  },
  {
   "cell_type": "markdown",
   "metadata": {},
   "source": [
    "# Relation of $\\lambda$ and C"
   ]
  },
  {
   "cell_type": "markdown",
   "metadata": {},
   "source": [
    "Set $\\dfrac{\\lambda}{N} = \\dfrac{1}{2}$.\n",
    "Set $C = \\dfrac{1}{N}$.\n",
    "\n",
    "Therefore, $C = \\dfrac{1}{2\\lambda}$.\n",
    "\n",
    "$\\log{\\lambda} \\in \\{−4,−2,0,2,4\\} \\rightarrow C \\in \\{5000,50,0.5,0.005,0.00005\\}$"
   ]
  },
  {
   "cell_type": "markdown",
   "metadata": {},
   "source": [
    "# Q16"
   ]
  },
  {
   "cell_type": "code",
   "execution_count": 19,
   "metadata": {
    "scrolled": true
   },
   "outputs": [
    {
     "name": "stdout",
     "output_type": "stream",
     "text": [
      "Accuracy = 86.6667% (260/300) (classification)\n",
      "When c = 5000 The error in test data is 13.333333333333329\n",
      "Accuracy = 87% (261/300) (classification)\n",
      "When c = 50 The error in test data is 13.0\n",
      "Accuracy = 80.6667% (242/300) (classification)\n",
      "When c = 0.5 The error in test data is 19.333333333333343\n",
      "Accuracy = 74.3333% (223/300) (classification)\n",
      "When c = 0.005 The error in test data is 25.66666666666667\n",
      "Accuracy = 51.6667% (155/300) (classification)\n",
      "When c = 5e-05 The error in test data is 48.33333333333333\n"
     ]
    }
   ],
   "source": [
    "c = [5000,50,0.5,0.005,0.00005]\n",
    "e = 0.000001\n",
    "\n",
    "for i in c:\n",
    "    \n",
    "    prob = problem(train_y, train_tx)\n",
    "    param = parameter('-s 0 -c {c} -e {e}'.format(c = i, e = e))\n",
    "    m = train(prob,param)\n",
    "    p_labs, p_acc, p_vals = predict(test_y, test_tx, m)\n",
    "    print(\"When c =\", i,\"The error in test data is\", 100-p_acc[0])"
   ]
  },
  {
   "cell_type": "code",
   "execution_count": 80,
   "metadata": {},
   "outputs": [
    {
     "name": "stdout",
     "output_type": "stream",
     "text": [
      "0.8666666666666667\n",
      "0.8733333333333333\n",
      "0.82\n",
      "0.7466666666666667\n",
      "0.52\n"
     ]
    }
   ],
   "source": [
    "# SKLEARN VERSION\n",
    "from sklearn.linear_model import LogisticRegression\n",
    "\n",
    "c = [5000,50,0.5,0.005,0.00005]\n",
    "e = 0.000001\n",
    "\n",
    "for i in c:\n",
    "    \n",
    "    lr_model = LogisticRegression(C = i, penalty = 'l2', tol = e, solver ='liblinear')\n",
    "    w = lr_model.fit(train_tx, train_y)\n",
    "    print(w.score(test_tx, test_y))"
   ]
  },
  {
   "cell_type": "markdown",
   "metadata": {},
   "source": [
    "Thus, when $C = 50$ ($\\log\\lambda = -2$), the 0/1 accuracy is highest. [b]"
   ]
  },
  {
   "cell_type": "markdown",
   "metadata": {},
   "source": [
    "# Q17"
   ]
  },
  {
   "cell_type": "code",
   "execution_count": 23,
   "metadata": {},
   "outputs": [
    {
     "name": "stdout",
     "output_type": "stream",
     "text": [
      "Accuracy = 91% (182/200) (classification)\n",
      "When c = 5000 The error in train data is 9.0\n",
      "Error: 9.0\n",
      "Accuracy = 90% (180/200) (classification)\n",
      "When c = 50 The error in train data is 10.0\n",
      "Error: 10.0\n",
      "Accuracy = 87% (174/200) (classification)\n",
      "When c = 0.5 The error in train data is 13.0\n",
      "Error: 13.0\n",
      "Accuracy = 80.5% (161/200) (classification)\n",
      "When c = 0.005 The error in train data is 19.5\n",
      "Error: 19.5\n",
      "Accuracy = 46.5% (93/200) (classification)\n",
      "When c = 5e-05 The error in train data is 53.5\n",
      "Error: 53.5\n"
     ]
    }
   ],
   "source": [
    "c = [5000,50,0.5,0.005,0.00005]\n",
    "e = 0.000001\n",
    "\n",
    "for i in c:\n",
    "    \n",
    "    prob = problem(train_y, train_tx)\n",
    "    param = parameter('-s 0 -c {c} -e {e}'.format(c = i, e = e))\n",
    "    m = train(prob,param)\n",
    "    p_labs, p_acc, p_vals = predict(train_y, train_tx, m)\n",
    "    print(\"When c =\", i,\"The error in train data is\", 100-p_acc[0])\n",
    "    ACC, MSE, SCC = evaluations(train_y, p_labs)\n",
    "    print(\"Error:\",100-ACC)"
   ]
  },
  {
   "cell_type": "code",
   "execution_count": 81,
   "metadata": {},
   "outputs": [
    {
     "name": "stdout",
     "output_type": "stream",
     "text": [
      "0.91\n",
      "0.905\n",
      "0.875\n",
      "0.805\n",
      "0.465\n"
     ]
    }
   ],
   "source": [
    "# SKLEARN VERSION\n",
    "from sklearn.linear_model import LogisticRegression\n",
    "\n",
    "c = [5000,50,0.5,0.005,0.00005]\n",
    "e = 0.000001\n",
    "\n",
    "for i in c:\n",
    "    \n",
    "    lr_model = LogisticRegression(C = i, penalty = 'l2', tol = e, solver ='liblinear')\n",
    "    w = lr_model.fit(train_tx, train_y)\n",
    "    print(w.score(train_tx, train_y))"
   ]
  },
  {
   "cell_type": "markdown",
   "metadata": {},
   "source": [
    "Thus, when $C = 5000$ ($\\log\\lambda = -4$), the 0/1 accuracy is highest. [a]"
   ]
  },
  {
   "cell_type": "markdown",
   "metadata": {},
   "source": [
    "# Q18"
   ]
  },
  {
   "cell_type": "code",
   "execution_count": 16,
   "metadata": {},
   "outputs": [],
   "source": [
    "subtrain_tx = train_tx[0:120,:]\n",
    "subval_tx = train_tx[120:,:]\n",
    "subtrain_y = train_y[0:120]\n",
    "subval_y = train_y[120:]"
   ]
  },
  {
   "cell_type": "code",
   "execution_count": 24,
   "metadata": {},
   "outputs": [
    {
     "name": "stdout",
     "output_type": "stream",
     "text": [
      "Accuracy = 80% (64/80) (classification)\n",
      "Accuracy = 82.3333% (247/300) (classification)\n",
      "When c = 5000 The err in val data is 20.0 The err in test data is 17.666666666666657\n",
      "Accuracy = 86.25% (69/80) (classification)\n",
      "Accuracy = 85.6667% (257/300) (classification)\n",
      "When c = 50 The err in val data is 13.75 The err in test data is 14.333333333333329\n",
      "Accuracy = 76.25% (61/80) (classification)\n",
      "Accuracy = 76% (228/300) (classification)\n",
      "When c = 0.5 The err in val data is 23.75 The err in test data is 24.0\n",
      "Accuracy = 73.75% (59/80) (classification)\n",
      "Accuracy = 76.3333% (229/300) (classification)\n",
      "When c = 0.005 The err in val data is 26.25 The err in test data is 23.66666666666667\n",
      "Accuracy = 42.5% (34/80) (classification)\n",
      "Accuracy = 51.6667% (155/300) (classification)\n",
      "When c = 5e-05 The err in val data is 57.5 The err in test data is 48.33333333333333\n"
     ]
    }
   ],
   "source": [
    "c = [5000,50,0.5,0.005,0.00005]\n",
    "e = 0.000001\n",
    "\n",
    "for i in c:\n",
    "    \n",
    "    prob = problem(subtrain_y, subtrain_tx)\n",
    "    param = parameter('-s 0 -c {c} -e {e}'.format(c = i, e = e))\n",
    "    m = train(prob,param)\n",
    "    p_labs, p_acc, p_vals = predict(subval_y, subval_tx, m)\n",
    "    p_labs2, p_acc2, p_vals2 = predict(test_y, test_tx, m)\n",
    "    print(\"When c =\", i,\"The err in val data is\", 100-p_acc[0],\"The err in test data is\", 100-p_acc2[0])"
   ]
  },
  {
   "cell_type": "code",
   "execution_count": 82,
   "metadata": {},
   "outputs": [
    {
     "name": "stdout",
     "output_type": "stream",
     "text": [
      "0.8125 0.8266666666666667\n",
      "0.8625 0.8633333333333333\n",
      "0.775 0.7766666666666666\n",
      "0.7625 0.7666666666666667\n",
      "0.425 0.5166666666666667\n"
     ]
    }
   ],
   "source": [
    "# SKLEARN VERSION\n",
    "from sklearn.linear_model import LogisticRegression\n",
    "\n",
    "c = [5000,50,0.5,0.005,0.00005]\n",
    "e = 0.000001\n",
    "\n",
    "for i in c:\n",
    "    \n",
    "    lr_model = LogisticRegression(C = i, penalty = 'l2', tol = e, solver ='liblinear')\n",
    "    w = lr_model.fit(subtrain_tx, subtrain_y)\n",
    "    print(w.score(subval_tx, subval_y), w.score(test_tx, test_y))"
   ]
  },
  {
   "cell_type": "markdown",
   "metadata": {},
   "source": [
    "Cause $\\text{Min}$ $E_{val} = 13.75$ whose $\\log\\lambda = -2$, by the $w^-$ the validation data indicates, the corresponding $E_{out}(w^-) = 14.3$. [e]"
   ]
  },
  {
   "cell_type": "markdown",
   "metadata": {},
   "source": [
    "# Q19"
   ]
  },
  {
   "cell_type": "code",
   "execution_count": 26,
   "metadata": {},
   "outputs": [
    {
     "name": "stdout",
     "output_type": "stream",
     "text": [
      "Accuracy = 87% (261/300) (classification)\n",
      "When c = 50 The error in test data is 13.0\n"
     ]
    }
   ],
   "source": [
    "c = 50\n",
    "e = 0.000001\n",
    "\n",
    "prob = problem(train_y, train_tx)\n",
    "param = parameter('-s 0 -c {c} -e {e}'.format(c = c, e = e))\n",
    "m = train(prob,param)\n",
    "p_labs, p_acc, p_vals = predict(test_y, test_tx, m)\n",
    "print(\"When c =\", c,\"The error in test data is\", 100-p_acc[0])"
   ]
  },
  {
   "cell_type": "markdown",
   "metadata": {},
   "source": [
    "Using $\\log\\lambda = -2$, by the $w$ the whole training data indicates, the corresponding $E_{out}(w) = 13.0\\%$. [d]"
   ]
  },
  {
   "cell_type": "markdown",
   "metadata": {},
   "source": [
    "# Q20"
   ]
  },
  {
   "cell_type": "code",
   "execution_count": 72,
   "metadata": {},
   "outputs": [],
   "source": [
    "c = [5000,50,0.5,0.005,0.00005]\n",
    "e = 0.000001\n",
    "\n",
    "\n",
    "f1x = train_tx[0:40,:]\n",
    "f1y = train_y[0:40]\n",
    "f2x = train_tx[40:80,:]\n",
    "f2y = train_y[40:80]\n",
    "f3x = train_tx[80:120,:]\n",
    "f3y = train_y[80:120]\n",
    "f4x = train_tx[120:160,:]\n",
    "f4y = train_y[120:160]\n",
    "f5x = train_tx[160:200,:]\n",
    "f5y = train_y[160:200]\n",
    "\n",
    "fx = [f1x,f2x,f3x,f4x,f5x]\n",
    "fy = [f1y,f2y,f3y,f4y,f5y]"
   ]
  },
  {
   "cell_type": "code",
   "execution_count": 74,
   "metadata": {},
   "outputs": [
    {
     "name": "stdout",
     "output_type": "stream",
     "text": [
      "Accuracy = 87.5% (35/40) (classification)\n",
      "Accuracy = 77.5% (31/40) (classification)\n",
      "Accuracy = 95% (38/40) (classification)\n",
      "Accuracy = 77.5% (31/40) (classification)\n",
      "Accuracy = 90% (36/40) (classification)\n",
      "When c = 5000 The error in CV is 14.5\n",
      "Accuracy = 85% (34/40) (classification)\n",
      "Accuracy = 80% (32/40) (classification)\n",
      "Accuracy = 95% (38/40) (classification)\n",
      "Accuracy = 85% (34/40) (classification)\n",
      "Accuracy = 95% (38/40) (classification)\n",
      "When c = 50 The error in CV is 12.0\n",
      "Accuracy = 80% (32/40) (classification)\n",
      "Accuracy = 90% (36/40) (classification)\n",
      "Accuracy = 90% (36/40) (classification)\n",
      "Accuracy = 80% (32/40) (classification)\n",
      "Accuracy = 82.5% (33/40) (classification)\n",
      "When c = 0.5 The error in CV is 15.5\n",
      "Accuracy = 77.5% (31/40) (classification)\n",
      "Accuracy = 92.5% (37/40) (classification)\n",
      "Accuracy = 85% (34/40) (classification)\n",
      "Accuracy = 75% (30/40) (classification)\n",
      "Accuracy = 80% (32/40) (classification)\n",
      "When c = 0.005 The error in CV is 18.0\n",
      "Accuracy = 42.5% (17/40) (classification)\n",
      "Accuracy = 65% (26/40) (classification)\n",
      "Accuracy = 47.5% (19/40) (classification)\n",
      "Accuracy = 40% (16/40) (classification)\n",
      "Accuracy = 45% (18/40) (classification)\n",
      "When c = 5e-05 The error in CV is 52.0\n"
     ]
    }
   ],
   "source": [
    "for i in c:\n",
    "    ttlerr = 0\n",
    "    for k in range(5):\n",
    "        tempx = np.concatenate((fx[(k+1)%5],fx[(k+2)%5],fx[(k+3)%5],fx[(k+4)%5]), axis=0)\n",
    "        tempy = np.concatenate((fy[(k+1)%5],fy[(k+2)%5],fy[(k+3)%5],fy[(k+4)%5]), axis=0)\n",
    "        prob = problem(tempy,tempx)\n",
    "        param = parameter('-s 0 -c {c} -e {e}'.format(c = i, e = e))\n",
    "        m = train(prob,param)\n",
    "        p_labs, p_acc, p_vals = predict(fy[k], fx[k], m)\n",
    "        ttlerr += 100-p_acc[0]\n",
    "    print(\"When c =\", i,\"The error in CV is\", ttlerr/5)"
   ]
  },
  {
   "cell_type": "code",
   "execution_count": 83,
   "metadata": {},
   "outputs": [
    {
     "name": "stdout",
     "output_type": "stream",
     "text": [
      "Cross Validation Accuracy = 86%\n",
      "Cross Validation Accuracy = 88.5%\n",
      "Cross Validation Accuracy = 85.5%\n",
      "Cross Validation Accuracy = 81.5%\n",
      "Cross Validation Accuracy = 50.5%\n"
     ]
    }
   ],
   "source": [
    "#in-built cross validation\n",
    "\n",
    "c = [5000,50,0.5,0.005,0.00005]\n",
    "e = 0.000001\n",
    "\n",
    "for i in c:\n",
    "    \n",
    "    prob = problem(train_y, train_tx)\n",
    "    param = parameter('-s 0 -c {c} -e {e} -v 5'.format(c = i, e = e))\n",
    "    m = train(prob,param)"
   ]
  },
  {
   "cell_type": "markdown",
   "metadata": {},
   "source": [
    "Hence, $\\text{Min}\\ E_{VC} = 12\\%$. [c]"
   ]
  },
  {
   "cell_type": "code",
   "execution_count": null,
   "metadata": {},
   "outputs": [],
   "source": []
  }
 ],
 "metadata": {
  "kernelspec": {
   "display_name": "Python 3",
   "language": "python",
   "name": "python3"
  },
  "language_info": {
   "codemirror_mode": {
    "name": "ipython",
    "version": 3
   },
   "file_extension": ".py",
   "mimetype": "text/x-python",
   "name": "python",
   "nbconvert_exporter": "python",
   "pygments_lexer": "ipython3",
   "version": "3.7.1"
  }
 },
 "nbformat": 4,
 "nbformat_minor": 2
}
