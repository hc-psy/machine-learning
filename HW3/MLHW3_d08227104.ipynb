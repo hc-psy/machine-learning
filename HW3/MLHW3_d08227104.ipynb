{
 "cells": [
  {
   "cell_type": "code",
   "execution_count": 47,
   "metadata": {},
   "outputs": [],
   "source": [
    "import numpy as np\n",
    "import numpy.linalg as la"
   ]
  },
  {
   "cell_type": "code",
   "execution_count": 48,
   "metadata": {},
   "outputs": [
    {
     "data": {
      "text/plain": [
       "array([[ 2.965153,  2.447427,  1.958754, ..., -4.510862, -0.006392,\n",
       "        -1.      ],\n",
       "       [-4.303194, -0.032933,  2.568076, ..., -0.949456, -0.744622,\n",
       "        -1.      ],\n",
       "       [-0.261568,  0.974854, -1.132005, ...,  2.728657,  4.001672,\n",
       "        -1.      ],\n",
       "       ...,\n",
       "       [-3.106073, -0.425107, -4.141368, ..., -1.741274,  1.479998,\n",
       "        -1.      ],\n",
       "       [ 3.665836,  3.401544, -0.779725, ...,  2.058829,  1.474205,\n",
       "         1.      ],\n",
       "       [ 1.74612 ,  2.365236, -2.501292, ...,  3.269879, -0.259019,\n",
       "         1.      ]])"
      ]
     },
     "execution_count": 48,
     "metadata": {},
     "output_type": "execute_result"
    }
   ],
   "source": [
    "# data loading\n",
    "train = np.loadtxt(\"hw3_train.dat\", dtype=np.float, delimiter='\\t')\n",
    "train"
   ]
  },
  {
   "cell_type": "code",
   "execution_count": 50,
   "metadata": {},
   "outputs": [
    {
     "data": {
      "text/plain": [
       "(1000, 11)"
      ]
     },
     "execution_count": 50,
     "metadata": {},
     "output_type": "execute_result"
    }
   ],
   "source": [
    "np.shape(train)"
   ]
  },
  {
   "cell_type": "code",
   "execution_count": 49,
   "metadata": {},
   "outputs": [
    {
     "data": {
      "text/plain": [
       "array([[ 1.406809,  1.629765,  0.137603, ..., -0.019709,  0.200252,\n",
       "         1.      ],\n",
       "       [-4.507169, -0.944514, -1.634057, ...,  3.074277,  1.056912,\n",
       "         1.      ],\n",
       "       [-1.559574, -4.985006,  0.946881, ...,  2.908434,  0.312697,\n",
       "        -1.      ],\n",
       "       ...,\n",
       "       [-1.019819,  0.524448,  0.617346, ...,  1.389058,  1.085457,\n",
       "         1.      ],\n",
       "       [ 1.42676 , -1.123184,  1.323768, ..., -3.147399, -1.061905,\n",
       "        -1.      ],\n",
       "       [-1.098224,  3.060828,  0.935526, ...,  0.476239, -4.390546,\n",
       "         1.      ]])"
      ]
     },
     "execution_count": 49,
     "metadata": {},
     "output_type": "execute_result"
    }
   ],
   "source": [
    "test = np.loadtxt(\"hw3_test.dat\", dtype=np.float, delimiter='\\t')\n",
    "test"
   ]
  },
  {
   "cell_type": "markdown",
   "metadata": {},
   "source": [
    "# Q 14\n",
    "\n",
    "The answer is 0.60. [d]"
   ]
  },
  {
   "cell_type": "code",
   "execution_count": 72,
   "metadata": {},
   "outputs": [
    {
     "data": {
      "text/plain": [
       "array([[ 1.      ,  2.965153,  2.447427, ...,  1.621895, -4.510862,\n",
       "        -0.006392],\n",
       "       [ 1.      , -4.303194, -0.032933, ..., -4.560341, -0.949456,\n",
       "        -0.744622],\n",
       "       [ 1.      , -0.261568,  0.974854, ..., -4.031803,  2.728657,\n",
       "         4.001672],\n",
       "       ...,\n",
       "       [ 1.      , -3.106073, -0.425107, ..., -2.093555, -1.741274,\n",
       "         1.479998],\n",
       "       [ 1.      ,  3.665836,  3.401544, ...,  0.78021 ,  2.058829,\n",
       "         1.474205],\n",
       "       [ 1.      ,  1.74612 ,  2.365236, ..., -0.833364,  3.269879,\n",
       "        -0.259019]])"
      ]
     },
     "execution_count": 72,
     "metadata": {},
     "output_type": "execute_result"
    }
   ],
   "source": [
    "# data\n",
    "x = np.concatenate((np.ones((1000,1)), train[:, 0:10]), axis=1)\n",
    "x"
   ]
  },
  {
   "cell_type": "code",
   "execution_count": 73,
   "metadata": {},
   "outputs": [
    {
     "data": {
      "text/plain": [
       "array([-1., -1., -1.,  1., -1.,  1., -1.,  1., -1., -1.,  1.,  1., -1.,\n",
       "        1., -1., -1.,  1., -1.,  1., -1.,  1., -1.,  1., -1.,  1., -1.,\n",
       "       -1.,  1., -1., -1., -1., -1.,  1., -1.,  1.,  1.,  1., -1., -1.,\n",
       "       -1.,  1., -1.,  1.,  1.,  1.,  1., -1., -1., -1.,  1.,  1.,  1.,\n",
       "        1.,  1., -1., -1.,  1., -1., -1., -1.,  1., -1.,  1., -1., -1.,\n",
       "       -1.,  1.,  1., -1., -1.,  1.,  1.,  1., -1., -1.,  1.,  1., -1.,\n",
       "        1., -1.,  1., -1.,  1., -1.,  1.,  1., -1.,  1., -1.,  1.,  1.,\n",
       "        1., -1., -1., -1., -1.,  1., -1.,  1., -1.,  1.,  1.,  1., -1.,\n",
       "       -1.,  1., -1.,  1., -1., -1.,  1.,  1., -1., -1.,  1.,  1., -1.,\n",
       "        1.,  1., -1.,  1.,  1., -1., -1.,  1.,  1., -1.,  1.,  1.,  1.,\n",
       "        1.,  1., -1., -1., -1.,  1., -1., -1., -1.,  1.,  1.,  1., -1.,\n",
       "        1., -1.,  1., -1.,  1., -1.,  1., -1., -1., -1., -1., -1., -1.,\n",
       "       -1., -1., -1.,  1., -1., -1., -1.,  1.,  1., -1., -1., -1.,  1.,\n",
       "       -1., -1.,  1., -1.,  1., -1.,  1., -1.,  1., -1., -1., -1., -1.,\n",
       "       -1.,  1., -1.,  1., -1.,  1.,  1., -1., -1., -1.,  1., -1., -1.,\n",
       "       -1., -1., -1., -1., -1., -1., -1.,  1., -1.,  1., -1.,  1., -1.,\n",
       "       -1., -1.,  1., -1., -1.,  1., -1.,  1.,  1.,  1.,  1.,  1.,  1.,\n",
       "       -1., -1.,  1.,  1., -1.,  1., -1.,  1., -1.,  1., -1.,  1., -1.,\n",
       "        1.,  1.,  1.,  1., -1., -1., -1., -1., -1., -1.,  1.,  1.,  1.,\n",
       "       -1., -1.,  1.,  1., -1.,  1., -1., -1.,  1., -1.,  1.,  1.,  1.,\n",
       "       -1., -1.,  1., -1., -1., -1., -1.,  1.,  1.,  1.,  1., -1.,  1.,\n",
       "        1.,  1., -1., -1., -1.,  1., -1., -1.,  1., -1., -1., -1.,  1.,\n",
       "        1., -1., -1.,  1., -1.,  1.,  1., -1., -1.,  1.,  1.,  1.,  1.,\n",
       "        1.,  1., -1.,  1.,  1., -1.,  1.,  1.,  1., -1., -1., -1., -1.,\n",
       "        1.,  1.,  1.,  1.,  1.,  1., -1., -1.,  1., -1.,  1.,  1., -1.,\n",
       "       -1., -1.,  1., -1.,  1.,  1.,  1., -1.,  1., -1.,  1., -1.,  1.,\n",
       "        1.,  1., -1.,  1., -1.,  1.,  1.,  1.,  1.,  1., -1., -1.,  1.,\n",
       "       -1.,  1.,  1.,  1., -1., -1.,  1.,  1.,  1., -1., -1.,  1.,  1.,\n",
       "        1., -1., -1.,  1.,  1., -1.,  1.,  1., -1., -1.,  1., -1., -1.,\n",
       "        1., -1., -1., -1., -1.,  1.,  1.,  1.,  1.,  1.,  1.,  1., -1.,\n",
       "        1.,  1.,  1.,  1.,  1.,  1., -1.,  1., -1.,  1., -1.,  1., -1.,\n",
       "       -1.,  1., -1.,  1.,  1., -1., -1., -1., -1.,  1.,  1., -1., -1.,\n",
       "        1.,  1.,  1., -1., -1., -1., -1.,  1.,  1., -1.,  1.,  1.,  1.,\n",
       "        1., -1., -1.,  1.,  1.,  1., -1.,  1., -1.,  1., -1., -1., -1.,\n",
       "       -1.,  1., -1., -1., -1.,  1.,  1.,  1., -1., -1., -1., -1.,  1.,\n",
       "        1., -1., -1.,  1., -1.,  1., -1.,  1., -1., -1., -1., -1., -1.,\n",
       "        1.,  1.,  1.,  1.,  1., -1., -1.,  1.,  1., -1., -1.,  1.,  1.,\n",
       "       -1.,  1., -1., -1.,  1.,  1.,  1.,  1., -1., -1., -1., -1.,  1.,\n",
       "        1., -1.,  1., -1., -1.,  1., -1., -1.,  1., -1.,  1.,  1.,  1.,\n",
       "       -1., -1.,  1., -1.,  1., -1.,  1., -1.,  1.,  1., -1., -1.,  1.,\n",
       "       -1.,  1.,  1., -1.,  1.,  1., -1.,  1., -1.,  1.,  1., -1.,  1.,\n",
       "       -1.,  1., -1.,  1., -1., -1., -1., -1., -1., -1.,  1., -1., -1.,\n",
       "        1., -1., -1., -1., -1.,  1.,  1.,  1.,  1., -1.,  1.,  1.,  1.,\n",
       "        1., -1.,  1., -1.,  1., -1.,  1., -1.,  1.,  1.,  1.,  1., -1.,\n",
       "        1., -1.,  1., -1.,  1., -1.,  1., -1.,  1., -1.,  1., -1.,  1.,\n",
       "        1.,  1.,  1., -1., -1., -1., -1.,  1., -1.,  1.,  1., -1.,  1.,\n",
       "        1., -1.,  1., -1., -1., -1., -1., -1., -1.,  1., -1., -1., -1.,\n",
       "       -1., -1.,  1., -1.,  1.,  1.,  1., -1., -1., -1., -1.,  1.,  1.,\n",
       "        1., -1.,  1., -1.,  1.,  1.,  1.,  1.,  1.,  1.,  1., -1.,  1.,\n",
       "       -1., -1.,  1.,  1., -1., -1.,  1., -1.,  1.,  1.,  1., -1., -1.,\n",
       "       -1., -1.,  1., -1.,  1.,  1.,  1.,  1., -1.,  1., -1.,  1.,  1.,\n",
       "        1., -1., -1.,  1., -1., -1., -1.,  1., -1., -1., -1.,  1., -1.,\n",
       "        1., -1., -1., -1.,  1.,  1.,  1., -1., -1.,  1.,  1.,  1.,  1.,\n",
       "        1.,  1.,  1., -1., -1., -1.,  1., -1.,  1.,  1.,  1.,  1., -1.,\n",
       "        1., -1.,  1., -1.,  1.,  1.,  1., -1., -1.,  1., -1., -1., -1.,\n",
       "        1., -1.,  1.,  1., -1., -1., -1., -1.,  1.,  1.,  1., -1., -1.,\n",
       "        1.,  1.,  1., -1., -1.,  1.,  1., -1.,  1.,  1.,  1.,  1., -1.,\n",
       "        1., -1., -1.,  1., -1., -1.,  1., -1., -1.,  1.,  1., -1.,  1.,\n",
       "        1., -1.,  1.,  1.,  1., -1.,  1., -1.,  1., -1.,  1., -1.,  1.,\n",
       "       -1.,  1., -1., -1., -1., -1., -1.,  1., -1., -1., -1., -1.,  1.,\n",
       "        1.,  1.,  1.,  1.,  1., -1.,  1.,  1., -1.,  1., -1.,  1., -1.,\n",
       "        1.,  1.,  1., -1., -1.,  1.,  1., -1., -1.,  1., -1.,  1.,  1.,\n",
       "       -1.,  1.,  1., -1.,  1., -1.,  1., -1.,  1., -1.,  1., -1.,  1.,\n",
       "        1.,  1., -1., -1.,  1., -1., -1.,  1.,  1., -1., -1., -1.,  1.,\n",
       "       -1., -1.,  1.,  1., -1.,  1.,  1.,  1., -1., -1.,  1., -1., -1.,\n",
       "       -1.,  1.,  1., -1.,  1., -1., -1., -1.,  1., -1., -1.,  1.,  1.,\n",
       "       -1.,  1., -1., -1.,  1.,  1., -1.,  1.,  1., -1., -1., -1., -1.,\n",
       "       -1.,  1., -1.,  1., -1., -1.,  1., -1.,  1.,  1.,  1., -1., -1.,\n",
       "        1., -1., -1., -1., -1.,  1.,  1., -1.,  1.,  1.,  1.,  1.,  1.,\n",
       "        1.,  1.,  1., -1.,  1.,  1., -1., -1.,  1.,  1., -1., -1., -1.,\n",
       "        1.,  1.,  1., -1.,  1., -1.,  1., -1., -1., -1., -1., -1.,  1.,\n",
       "        1., -1., -1., -1., -1.,  1., -1., -1.,  1.,  1., -1., -1., -1.,\n",
       "       -1.,  1., -1.,  1.,  1.,  1.,  1.,  1., -1.,  1., -1.,  1.,  1.,\n",
       "       -1.,  1., -1., -1.,  1., -1.,  1., -1., -1.,  1.,  1.,  1., -1.,\n",
       "       -1.,  1.,  1., -1.,  1., -1.,  1.,  1., -1., -1., -1., -1.,  1.,\n",
       "        1., -1., -1.,  1., -1.,  1., -1.,  1.,  1.,  1., -1., -1., -1.,\n",
       "       -1., -1., -1.,  1.,  1., -1.,  1.,  1., -1., -1.,  1.,  1.])"
      ]
     },
     "execution_count": 73,
     "metadata": {},
     "output_type": "execute_result"
    }
   ],
   "source": [
    "y = train[:, 10]\n",
    "y"
   ]
  },
  {
   "cell_type": "code",
   "execution_count": 74,
   "metadata": {},
   "outputs": [
    {
     "data": {
      "text/plain": [
       "array([ 0.00754448,  0.14325775,  0.03548979,  0.02775754,  0.02547401,\n",
       "       -0.08173504,  0.0807915 , -0.10929449,  0.07789522,  0.16407524,\n",
       "        0.14069183])"
      ]
     },
     "execution_count": 74,
     "metadata": {},
     "output_type": "execute_result"
    }
   ],
   "source": [
    "w_lin = la.solve(x.T@x, x.T@y)\n",
    "w_lin"
   ]
  },
  {
   "cell_type": "code",
   "execution_count": 84,
   "metadata": {},
   "outputs": [
    {
     "data": {
      "text/plain": [
       "0.6053223804672918"
      ]
     },
     "execution_count": 84,
     "metadata": {},
     "output_type": "execute_result"
    }
   ],
   "source": [
    "ein_lin = 0.001*(la.norm(x@w_lin-y)**2)\n",
    "ein_lin"
   ]
  },
  {
   "cell_type": "code",
   "execution_count": 76,
   "metadata": {},
   "outputs": [
    {
     "data": {
      "text/plain": [
       "array([ 0.00000000e+00,  0.00000000e+00,  0.00000000e+00,  2.84217094e-17,\n",
       "        2.84217094e-17,  0.00000000e+00,  0.00000000e+00, -2.27373675e-16,\n",
       "       -1.13686838e-16,  0.00000000e+00, -2.27373675e-16])"
      ]
     },
     "execution_count": 76,
     "metadata": {},
     "output_type": "execute_result"
    }
   ],
   "source": [
    "# gradient\n",
    "nablaein_lin = 0.002*(x.T@x@w_lin-x.T@y)\n",
    "nablaein_lin"
   ]
  },
  {
   "cell_type": "markdown",
   "metadata": {},
   "source": [
    "# Q15\n",
    "\n",
    "The answer is 1800 [c]."
   ]
  },
  {
   "cell_type": "code",
   "execution_count": 88,
   "metadata": {},
   "outputs": [],
   "source": [
    "def exp(w,x,y):\n",
    "    count = 0\n",
    "    while 0.001*(la.norm(x@w-y)**2) > 1.01*ein_lin:\n",
    "        #randomly pick example\n",
    "        tempidx = np.random.randint(0, 999)\n",
    "        xt = x[tempidx]\n",
    "        yt = y[tempidx]\n",
    "        #SGD update\n",
    "        w = w+0.001*2*(yt-w.T@xt)*xt\n",
    "        #count iterations\n",
    "        count+=1\n",
    "    return count"
   ]
  },
  {
   "cell_type": "code",
   "execution_count": 89,
   "metadata": {},
   "outputs": [
    {
     "data": {
      "text/plain": [
       "1871.06"
      ]
     },
     "execution_count": 89,
     "metadata": {},
     "output_type": "execute_result"
    }
   ],
   "source": [
    "x = np.concatenate((np.ones((1000,1)), train[:, 0:10]), axis=1)\n",
    "y = train[:, 10]\n",
    "w = np.zeros(11)\n",
    "n_iter = []\n",
    "for i in range(1000):\n",
    "    n_iter.append(exp(w,x,y))\n",
    "np.mean(n_iter)"
   ]
  },
  {
   "cell_type": "markdown",
   "metadata": {},
   "source": [
    "# Q16\n",
    "\n",
    "The answer is 0.56 [c]."
   ]
  },
  {
   "cell_type": "code",
   "execution_count": 90,
   "metadata": {},
   "outputs": [],
   "source": [
    "def sigmoid(x): \n",
    "    s = 1 / (1 + np.exp(-x))\n",
    "    return s"
   ]
  },
  {
   "cell_type": "code",
   "execution_count": 91,
   "metadata": {},
   "outputs": [],
   "source": [
    "def exp16(w,x,y):\n",
    "    for i in range(500):\n",
    "        #randomly pick example\n",
    "        tempidx = np.random.randint(0, 999)\n",
    "        xt = x[tempidx]\n",
    "        yt = y[tempidx]\n",
    "        #SGD update\n",
    "        w = w+0.001*sigmoid(-yt*(w.T@xt))*yt*xt\n",
    "        #count iterations\n",
    "    ein_ce = 0\n",
    "    for i in range(1000):\n",
    "        ein_ce += np.log(1+np.exp(-y[i]*(w.T@x[i])))\n",
    "    ein_ce /= 1000\n",
    "    return ein_ce"
   ]
  },
  {
   "cell_type": "code",
   "execution_count": 96,
   "metadata": {},
   "outputs": [
    {
     "data": {
      "text/plain": [
       "0.5691906286766145"
      ]
     },
     "execution_count": 96,
     "metadata": {},
     "output_type": "execute_result"
    }
   ],
   "source": [
    "x = np.concatenate((np.ones((1000,1)), train[:, 0:10]), axis=1)\n",
    "y = train[:, 10]\n",
    "w = np.zeros(11)\n",
    "all_ce = []\n",
    "for i in range(1000):\n",
    "    all_ce.append(exp16(w,x,y))\n",
    "np.mean(all_ce)"
   ]
  },
  {
   "cell_type": "markdown",
   "metadata": {},
   "source": [
    "# Q17\n",
    "\n",
    "The answer is 0.50 [b]."
   ]
  },
  {
   "cell_type": "code",
   "execution_count": 97,
   "metadata": {},
   "outputs": [
    {
     "data": {
      "text/plain": [
       "0.5028703930285623"
      ]
     },
     "execution_count": 97,
     "metadata": {},
     "output_type": "execute_result"
    }
   ],
   "source": [
    "x = np.concatenate((np.ones((1000,1)), train[:, 0:10]), axis=1)\n",
    "y = train[:, 10]\n",
    "w = w_lin\n",
    "all_ce = []\n",
    "for i in range(1000):\n",
    "    all_ce.append(exp16(w,x,y))\n",
    "np.mean(all_ce)"
   ]
  },
  {
   "cell_type": "markdown",
   "metadata": {},
   "source": [
    "# Q18\n",
    "The answer is 0.32 [a]."
   ]
  },
  {
   "cell_type": "code",
   "execution_count": 99,
   "metadata": {},
   "outputs": [],
   "source": [
    "def sign(x):\n",
    "    return 1 if x > 0 else -1"
   ]
  },
  {
   "cell_type": "code",
   "execution_count": 102,
   "metadata": {},
   "outputs": [],
   "source": [
    "train_x = np.concatenate((np.ones((1000,1)), train[:, 0:10]), axis=1)\n",
    "train_y = train[:, 10]\n",
    "test_x = np.concatenate((np.ones((3000,1)), test[:, 0:10]), axis=1)\n",
    "test_y = test[:, 10]"
   ]
  },
  {
   "cell_type": "code",
   "execution_count": 103,
   "metadata": {},
   "outputs": [
    {
     "data": {
      "text/plain": [
       "0.3226666666666666"
      ]
     },
     "execution_count": 103,
     "metadata": {},
     "output_type": "execute_result"
    }
   ],
   "source": [
    "ein10 = np.mean([(1-sign(w_lin.T@train_x[i])*train_y[i])/2 for i in range(1000)])\n",
    "eout10 = np.mean([(1-sign(w_lin.T@test_x[i])*test_y[i])/2 for i in range(3000)])\n",
    "abs(ein10-eout10)"
   ]
  },
  {
   "cell_type": "markdown",
   "metadata": {},
   "source": [
    "# Q19\n",
    "The answer is 0.36 [b]"
   ]
  },
  {
   "cell_type": "code",
   "execution_count": 114,
   "metadata": {},
   "outputs": [],
   "source": [
    "train_x_19 = np.ones((1000,1))\n",
    "test_x_19 = np.ones((3000,1))\n",
    "for i in range(3):\n",
    "    train_x_19 = np.concatenate((train_x_19, train[:, 0:10]**(i+1)), axis=1)\n",
    "    test_x_19 = np.concatenate((test_x_19, test[:, 0:10]**(i+1)), axis=1)"
   ]
  },
  {
   "cell_type": "code",
   "execution_count": 116,
   "metadata": {},
   "outputs": [
    {
     "data": {
      "text/plain": [
       "(1000, 31)"
      ]
     },
     "execution_count": 116,
     "metadata": {},
     "output_type": "execute_result"
    }
   ],
   "source": [
    "np.shape(train_x_19)"
   ]
  },
  {
   "cell_type": "code",
   "execution_count": 117,
   "metadata": {},
   "outputs": [
    {
     "data": {
      "text/plain": [
       "(3000, 31)"
      ]
     },
     "execution_count": 117,
     "metadata": {},
     "output_type": "execute_result"
    }
   ],
   "source": [
    "np.shape(test_x_19)"
   ]
  },
  {
   "cell_type": "code",
   "execution_count": 118,
   "metadata": {},
   "outputs": [
    {
     "data": {
      "text/plain": [
       "0.37366666666666665"
      ]
     },
     "execution_count": 118,
     "metadata": {},
     "output_type": "execute_result"
    }
   ],
   "source": [
    "w_lin19 = la.solve(train_x_19.T@train_x_19, train_x_19.T@train_y)\n",
    "ein10 = np.mean([(1-sign(w_lin19.T@train_x_19[i])*train_y[i])/2 for i in range(1000)])\n",
    "eout10 = np.mean([(1-sign(w_lin19.T@test_x_19[i])*test_y[i])/2 for i in range(3000)])\n",
    "abs(ein10-eout10)"
   ]
  },
  {
   "cell_type": "markdown",
   "metadata": {},
   "source": [
    "# Q20\n",
    "The answer is 0.44 [d]"
   ]
  },
  {
   "cell_type": "code",
   "execution_count": 119,
   "metadata": {},
   "outputs": [
    {
     "data": {
      "text/plain": [
       "0.44666666666666666"
      ]
     },
     "execution_count": 119,
     "metadata": {},
     "output_type": "execute_result"
    }
   ],
   "source": [
    "train_x_20 = np.ones((1000,1))\n",
    "test_x_20 = np.ones((3000,1))\n",
    "for i in range(10):\n",
    "    train_x_20 = np.concatenate((train_x_20, train[:, 0:10]**(i+1)), axis=1)\n",
    "    test_x_20 = np.concatenate((test_x_20, test[:, 0:10]**(i+1)), axis=1)\n",
    "w_lin20 = la.solve(train_x_20.T@train_x_20, train_x_20.T@train_y)\n",
    "ein10 = np.mean([(1-sign(w_lin20.T@train_x_20[i])*train_y[i])/2 for i in range(1000)])\n",
    "eout10 = np.mean([(1-sign(w_lin20.T@test_x_20[i])*test_y[i])/2 for i in range(3000)])\n",
    "abs(ein10-eout10)"
   ]
  },
  {
   "cell_type": "code",
   "execution_count": 120,
   "metadata": {},
   "outputs": [
    {
     "data": {
      "text/plain": [
       "(3000, 101)"
      ]
     },
     "execution_count": 120,
     "metadata": {},
     "output_type": "execute_result"
    }
   ],
   "source": [
    "np.shape(test_x_20)"
   ]
  },
  {
   "cell_type": "code",
   "execution_count": null,
   "metadata": {},
   "outputs": [],
   "source": []
  }
 ],
 "metadata": {
  "kernelspec": {
   "display_name": "Python 3",
   "language": "python",
   "name": "python3"
  },
  "language_info": {
   "codemirror_mode": {
    "name": "ipython",
    "version": 3
   },
   "file_extension": ".py",
   "mimetype": "text/x-python",
   "name": "python",
   "nbconvert_exporter": "python",
   "pygments_lexer": "ipython3",
   "version": "3.7.1"
  }
 },
 "nbformat": 4,
 "nbformat_minor": 2
}
