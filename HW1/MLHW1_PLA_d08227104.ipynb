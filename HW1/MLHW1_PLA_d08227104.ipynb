{
 "cells": [
  {
   "cell_type": "code",
   "execution_count": 1,
   "metadata": {},
   "outputs": [],
   "source": [
    "import numpy as np"
   ]
  },
  {
   "cell_type": "code",
   "execution_count": 9,
   "metadata": {},
   "outputs": [],
   "source": [
    "# data loading\n",
    "dta = np.loadtxt(\"hw1_train.dat\", dtype=np.float, delimiter='\\t')"
   ]
  },
  {
   "cell_type": "code",
   "execution_count": 10,
   "metadata": {},
   "outputs": [
    {
     "data": {
      "text/plain": [
       "array([[ 1.56186, -2.54905, -1.98638, ...,  1.32496, -2.26376, -1.     ],\n",
       "       [ 3.89045, -0.02852,  2.2065 , ..., -2.31854, -1.40395, -1.     ],\n",
       "       [-1.85626, -1.38071, -0.0755 , ..., -2.35446, -1.43411,  1.     ],\n",
       "       ...,\n",
       "       [-3.8145 ,  0.89167, -2.15984, ..., -1.57172,  0.15997,  1.     ],\n",
       "       [-2.11276, -1.91391, -0.63889, ..., -3.45234, -1.29036,  1.     ],\n",
       "       [-2.50787, -1.02966,  0.5274 , ...,  1.14198,  0.64107, -1.     ]])"
      ]
     },
     "execution_count": 10,
     "metadata": {},
     "output_type": "execute_result"
    }
   ],
   "source": [
    "dta"
   ]
  },
  {
   "cell_type": "code",
   "execution_count": 11,
   "metadata": {},
   "outputs": [
    {
     "data": {
      "text/plain": [
       "(100, 11)"
      ]
     },
     "execution_count": 11,
     "metadata": {},
     "output_type": "execute_result"
    }
   ],
   "source": [
    "np.shape(dta)"
   ]
  },
  {
   "cell_type": "code",
   "execution_count": 23,
   "metadata": {},
   "outputs": [
    {
     "data": {
      "text/plain": [
       "100"
      ]
     },
     "execution_count": 23,
     "metadata": {},
     "output_type": "execute_result"
    }
   ],
   "source": [
    "dta_n = len(dta)\n",
    "dta_n"
   ]
  },
  {
   "cell_type": "markdown",
   "metadata": {},
   "source": [
    "# PL Algorithm"
   ]
  },
  {
   "cell_type": "code",
   "execution_count": 87,
   "metadata": {},
   "outputs": [],
   "source": [
    "def signf(value):\n",
    "    return 1 if value > 0 else -1"
   ]
  },
  {
   "cell_type": "markdown",
   "metadata": {},
   "source": [
    "## On-paper implementation\n",
    "\n",
    "Residual may be large..."
   ]
  },
  {
   "cell_type": "code",
   "execution_count": 157,
   "metadata": {},
   "outputs": [],
   "source": [
    "def PLAEXP(x, y):\n",
    "    \n",
    "    #inquirements\n",
    "    update = [] #for 16, 18, 19, 20\n",
    "    w0 = [] #for 17\n",
    "    res = [] #insterests\n",
    "    \n",
    "    for exp in range(10000):\n",
    "        #initialize parameters\n",
    "        w = np.zeros(11) #for 16: 11\n",
    "        updatetemp = 0\n",
    "        maxcorrect = 0\n",
    "        \n",
    "        #PLA\n",
    "        while maxcorrect < 500: #stop-critria\n",
    "            current_index = np.random.randint(0, dta_n-1) #randomly pick a example\n",
    "            if y[current_index] != signf(x[current_index, :].dot(w)):\n",
    "                w += y[current_index] * x[current_index, :]\n",
    "                updatetemp += 1\n",
    "                maxcorrect = 0\n",
    "            else:\n",
    "                maxcorrect += 1\n",
    "        \n",
    "        #records\n",
    "        update.append(updatetemp)\n",
    "        w0.append(w[0])\n",
    "        \n",
    "        #calculus of res\n",
    "        restemp = 0\n",
    "        for i in range(100):\n",
    "            restemp += abs(y[i] - signf(x[i, :].dot(w)))\n",
    "        res.append(restemp)\n",
    "\n",
    "    print(\"median of # of updates is\", np.median(update),\"median of w0\", np.median(w0))\n",
    "    print(np.mean(res))"
   ]
  },
  {
   "cell_type": "markdown",
   "metadata": {},
   "source": [
    "## Residual = 0 implementation"
   ]
  },
  {
   "cell_type": "code",
   "execution_count": 122,
   "metadata": {},
   "outputs": [],
   "source": [
    "def PLAEXP_NEW(x, y):\n",
    "    \n",
    "    #inquirements\n",
    "    update = [] #for 16, 18, 19, 20\n",
    "    w0 = [] #for 17\n",
    "    res = [] #insterests\n",
    "    \n",
    "    for exp in range(1000):\n",
    "        #initialize parameters\n",
    "        w = np.zeros(11) #for 16: 11\n",
    "        updatetemp = 0\n",
    "        maxcorrect = 0\n",
    "        \n",
    "        #PLA\n",
    "        while True:\n",
    "            restemp = 0\n",
    "            for i in range(100):\n",
    "                if y[i] != signf(x[i, :].dot(w)):\n",
    "                    w += y[i] * x[i, :]\n",
    "                    updatetemp += 1\n",
    "                    restemp += 1\n",
    "            if restemp == 0: #stop-critria: all-right\n",
    "                break\n",
    "        \n",
    "        #records\n",
    "        update.append(updatetemp)\n",
    "        w0.append(w[0])\n",
    "        \n",
    "        #calculus of res\n",
    "        restemp = 0\n",
    "        for i in range(100):\n",
    "            restemp += abs(y[i] - signf(x[i, :].dot(w)))\n",
    "        res.append(restemp)\n",
    "\n",
    "    print(\"median of # of updates is\", np.median(update),\"median of w0\", np.median(w0))\n",
    "    print(np.mean(res))"
   ]
  },
  {
   "cell_type": "markdown",
   "metadata": {},
   "source": [
    "# 16 & 17"
   ]
  },
  {
   "cell_type": "code",
   "execution_count": 158,
   "metadata": {},
   "outputs": [
    {
     "data": {
      "text/plain": [
       "array([[ 1.     ,  1.56186, -2.54905, ..., -0.30951,  1.32496, -2.26376],\n",
       "       [ 1.     ,  3.89045, -0.02852, ..., -1.30547, -2.31854, -1.40395],\n",
       "       [ 1.     , -1.85626, -1.38071, ..., -1.11643, -2.35446, -1.43411],\n",
       "       ...,\n",
       "       [ 1.     , -3.8145 ,  0.89167, ...,  0.45259, -1.57172,  0.15997],\n",
       "       [ 1.     , -2.11276, -1.91391, ...,  2.756  , -3.45234, -1.29036],\n",
       "       [ 1.     , -2.50787, -1.02966, ..., -0.31516,  1.14198,  0.64107]])"
      ]
     },
     "execution_count": 158,
     "metadata": {},
     "output_type": "execute_result"
    }
   ],
   "source": [
    "x = np.concatenate((np.ones((dta_n,1)), dta[:, 0:10]), axis=1)\n",
    "x"
   ]
  },
  {
   "cell_type": "code",
   "execution_count": 159,
   "metadata": {},
   "outputs": [
    {
     "data": {
      "text/plain": [
       "array([-1., -1.,  1.,  1.,  1.,  1., -1., -1., -1., -1., -1.,  1., -1.,\n",
       "        1.,  1.,  1., -1., -1., -1.,  1.,  1., -1.,  1., -1., -1.,  1.,\n",
       "        1.,  1.,  1., -1.,  1.,  1.,  1., -1.,  1.,  1.,  1.,  1.,  1.,\n",
       "       -1., -1.,  1., -1., -1., -1., -1., -1., -1., -1., -1., -1., -1.,\n",
       "        1., -1.,  1., -1.,  1.,  1., -1.,  1., -1.,  1., -1.,  1.,  1.,\n",
       "        1.,  1., -1., -1.,  1., -1., -1.,  1.,  1., -1.,  1., -1.,  1.,\n",
       "        1., -1., -1.,  1.,  1., -1., -1.,  1., -1.,  1., -1., -1.,  1.,\n",
       "        1., -1.,  1.,  1., -1., -1.,  1.,  1., -1.])"
      ]
     },
     "execution_count": 159,
     "metadata": {},
     "output_type": "execute_result"
    }
   ],
   "source": [
    "y = dta[:, 10]\n",
    "y"
   ]
  },
  {
   "cell_type": "code",
   "execution_count": 160,
   "metadata": {},
   "outputs": [
    {
     "name": "stdout",
     "output_type": "stream",
     "text": [
      "median of # of updates is 11.0 median of w0 -7.0\n",
      "0.0162\n"
     ]
    }
   ],
   "source": [
    "PLAEXP(x, y)"
   ]
  },
  {
   "cell_type": "code",
   "execution_count": 133,
   "metadata": {},
   "outputs": [
    {
     "name": "stdout",
     "output_type": "stream",
     "text": [
      "median of # of updates is 14.0 median of w0 0.0\n",
      "0.0\n"
     ]
    }
   ],
   "source": [
    "PLAEXP_NEW(x, y)"
   ]
  },
  {
   "cell_type": "markdown",
   "metadata": {},
   "source": [
    "# 18"
   ]
  },
  {
   "cell_type": "code",
   "execution_count": 161,
   "metadata": {},
   "outputs": [
    {
     "data": {
      "text/plain": [
       "array([[10.     ,  1.56186, -2.54905, ..., -0.30951,  1.32496, -2.26376],\n",
       "       [10.     ,  3.89045, -0.02852, ..., -1.30547, -2.31854, -1.40395],\n",
       "       [10.     , -1.85626, -1.38071, ..., -1.11643, -2.35446, -1.43411],\n",
       "       ...,\n",
       "       [10.     , -3.8145 ,  0.89167, ...,  0.45259, -1.57172,  0.15997],\n",
       "       [10.     , -2.11276, -1.91391, ...,  2.756  , -3.45234, -1.29036],\n",
       "       [10.     , -2.50787, -1.02966, ..., -0.31516,  1.14198,  0.64107]])"
      ]
     },
     "execution_count": 161,
     "metadata": {},
     "output_type": "execute_result"
    }
   ],
   "source": [
    "x = np.concatenate((np.ones((dta_n,1))*10, dta[:, 0:10]), axis=1)\n",
    "x"
   ]
  },
  {
   "cell_type": "code",
   "execution_count": 162,
   "metadata": {},
   "outputs": [
    {
     "data": {
      "text/plain": [
       "array([-1., -1.,  1.,  1.,  1.,  1., -1., -1., -1., -1., -1.,  1., -1.,\n",
       "        1.,  1.,  1., -1., -1., -1.,  1.,  1., -1.,  1., -1., -1.,  1.,\n",
       "        1.,  1.,  1., -1.,  1.,  1.,  1., -1.,  1.,  1.,  1.,  1.,  1.,\n",
       "       -1., -1.,  1., -1., -1., -1., -1., -1., -1., -1., -1., -1., -1.,\n",
       "        1., -1.,  1., -1.,  1.,  1., -1.,  1., -1.,  1., -1.,  1.,  1.,\n",
       "        1.,  1., -1., -1.,  1., -1., -1.,  1.,  1., -1.,  1., -1.,  1.,\n",
       "        1., -1., -1.,  1.,  1., -1., -1.,  1., -1.,  1., -1., -1.,  1.,\n",
       "        1., -1.,  1.,  1., -1., -1.,  1.,  1., -1.])"
      ]
     },
     "execution_count": 162,
     "metadata": {},
     "output_type": "execute_result"
    }
   ],
   "source": [
    "y = dta[:, 10]\n",
    "y"
   ]
  },
  {
   "cell_type": "code",
   "execution_count": 163,
   "metadata": {},
   "outputs": [
    {
     "name": "stdout",
     "output_type": "stream",
     "text": [
      "median of # of updates is 15.0 median of w0 0.0\n",
      "0.0126\n"
     ]
    }
   ],
   "source": [
    "PLAEXP(x, y)"
   ]
  },
  {
   "cell_type": "code",
   "execution_count": 130,
   "metadata": {},
   "outputs": [
    {
     "name": "stdout",
     "output_type": "stream",
     "text": [
      "median of # of updates is 14.0 median of w0 0.0\n",
      "0.0\n"
     ]
    }
   ],
   "source": [
    "PLAEXP_NEW(x, y)"
   ]
  },
  {
   "cell_type": "markdown",
   "metadata": {},
   "source": [
    "# 19"
   ]
  },
  {
   "cell_type": "code",
   "execution_count": 164,
   "metadata": {},
   "outputs": [
    {
     "data": {
      "text/plain": [
       "array([[ 0.     ,  1.56186, -2.54905, ..., -0.30951,  1.32496, -2.26376],\n",
       "       [ 0.     ,  3.89045, -0.02852, ..., -1.30547, -2.31854, -1.40395],\n",
       "       [ 0.     , -1.85626, -1.38071, ..., -1.11643, -2.35446, -1.43411],\n",
       "       ...,\n",
       "       [ 0.     , -3.8145 ,  0.89167, ...,  0.45259, -1.57172,  0.15997],\n",
       "       [ 0.     , -2.11276, -1.91391, ...,  2.756  , -3.45234, -1.29036],\n",
       "       [ 0.     , -2.50787, -1.02966, ..., -0.31516,  1.14198,  0.64107]])"
      ]
     },
     "execution_count": 164,
     "metadata": {},
     "output_type": "execute_result"
    }
   ],
   "source": [
    "x = np.concatenate((np.ones((dta_n,1))*0, dta[:, 0:10]), axis=1)\n",
    "x"
   ]
  },
  {
   "cell_type": "code",
   "execution_count": 165,
   "metadata": {},
   "outputs": [
    {
     "data": {
      "text/plain": [
       "array([-1., -1.,  1.,  1.,  1.,  1., -1., -1., -1., -1., -1.,  1., -1.,\n",
       "        1.,  1.,  1., -1., -1., -1.,  1.,  1., -1.,  1., -1., -1.,  1.,\n",
       "        1.,  1.,  1., -1.,  1.,  1.,  1., -1.,  1.,  1.,  1.,  1.,  1.,\n",
       "       -1., -1.,  1., -1., -1., -1., -1., -1., -1., -1., -1., -1., -1.,\n",
       "        1., -1.,  1., -1.,  1.,  1., -1.,  1., -1.,  1., -1.,  1.,  1.,\n",
       "        1.,  1., -1., -1.,  1., -1., -1.,  1.,  1., -1.,  1., -1.,  1.,\n",
       "        1., -1., -1.,  1.,  1., -1., -1.,  1., -1.,  1., -1., -1.,  1.,\n",
       "        1., -1.,  1.,  1., -1., -1.,  1.,  1., -1.])"
      ]
     },
     "execution_count": 165,
     "metadata": {},
     "output_type": "execute_result"
    }
   ],
   "source": [
    "y = dta[:, 10]\n",
    "y"
   ]
  },
  {
   "cell_type": "code",
   "execution_count": 166,
   "metadata": {},
   "outputs": [
    {
     "name": "stdout",
     "output_type": "stream",
     "text": [
      "median of # of updates is 17.0 median of w0 0.0\n",
      "0.0224\n"
     ]
    }
   ],
   "source": [
    "PLAEXP(x, y)"
   ]
  },
  {
   "cell_type": "code",
   "execution_count": 142,
   "metadata": {},
   "outputs": [
    {
     "name": "stdout",
     "output_type": "stream",
     "text": [
      "median of # of updates is 15.0 median of w0 0.0\n",
      "0.0\n"
     ]
    }
   ],
   "source": [
    "PLAEXP_NEW(x, y)"
   ]
  },
  {
   "cell_type": "markdown",
   "metadata": {},
   "source": [
    "# 20"
   ]
  },
  {
   "cell_type": "code",
   "execution_count": 167,
   "metadata": {},
   "outputs": [
    {
     "data": {
      "text/plain": [
       "array([[ 0.       ,  0.390465 , -0.6372625, ..., -0.0773775,  0.33124  ,\n",
       "        -0.56594  ],\n",
       "       [ 0.       ,  0.9726125, -0.00713  , ..., -0.3263675, -0.579635 ,\n",
       "        -0.3509875],\n",
       "       [ 0.       , -0.464065 , -0.3451775, ..., -0.2791075, -0.588615 ,\n",
       "        -0.3585275],\n",
       "       ...,\n",
       "       [ 0.       , -0.953625 ,  0.2229175, ...,  0.1131475, -0.39293  ,\n",
       "         0.0399925],\n",
       "       [ 0.       , -0.52819  , -0.4784775, ...,  0.689    , -0.863085 ,\n",
       "        -0.32259  ],\n",
       "       [ 0.       , -0.6269675, -0.257415 , ..., -0.07879  ,  0.285495 ,\n",
       "         0.1602675]])"
      ]
     },
     "execution_count": 167,
     "metadata": {},
     "output_type": "execute_result"
    }
   ],
   "source": [
    "x = np.concatenate((np.ones((dta_n,1))*0, dta[:, 0:10]), axis=1)/4\n",
    "x"
   ]
  },
  {
   "cell_type": "code",
   "execution_count": 168,
   "metadata": {},
   "outputs": [
    {
     "data": {
      "text/plain": [
       "array([-1., -1.,  1.,  1.,  1.,  1., -1., -1., -1., -1., -1.,  1., -1.,\n",
       "        1.,  1.,  1., -1., -1., -1.,  1.,  1., -1.,  1., -1., -1.,  1.,\n",
       "        1.,  1.,  1., -1.,  1.,  1.,  1., -1.,  1.,  1.,  1.,  1.,  1.,\n",
       "       -1., -1.,  1., -1., -1., -1., -1., -1., -1., -1., -1., -1., -1.,\n",
       "        1., -1.,  1., -1.,  1.,  1., -1.,  1., -1.,  1., -1.,  1.,  1.,\n",
       "        1.,  1., -1., -1.,  1., -1., -1.,  1.,  1., -1.,  1., -1.,  1.,\n",
       "        1., -1., -1.,  1.,  1., -1., -1.,  1., -1.,  1., -1., -1.,  1.,\n",
       "        1., -1.,  1.,  1., -1., -1.,  1.,  1., -1.])"
      ]
     },
     "execution_count": 168,
     "metadata": {},
     "output_type": "execute_result"
    }
   ],
   "source": [
    "y = dta[:, 10]\n",
    "y"
   ]
  },
  {
   "cell_type": "code",
   "execution_count": 169,
   "metadata": {},
   "outputs": [
    {
     "name": "stdout",
     "output_type": "stream",
     "text": [
      "median of # of updates is 17.0 median of w0 0.0\n",
      "0.0204\n"
     ]
    }
   ],
   "source": [
    "PLAEXP(x, y)"
   ]
  },
  {
   "cell_type": "code",
   "execution_count": 154,
   "metadata": {},
   "outputs": [
    {
     "name": "stdout",
     "output_type": "stream",
     "text": [
      "median of # of updates is 15.0 median of w0 0.0\n",
      "0.0\n"
     ]
    }
   ],
   "source": [
    "PLAEXP_NEW(x, y)"
   ]
  }
 ],
 "metadata": {
  "kernelspec": {
   "display_name": "Python 3",
   "language": "python",
   "name": "python3"
  },
  "language_info": {
   "codemirror_mode": {
    "name": "ipython",
    "version": 3
   },
   "file_extension": ".py",
   "mimetype": "text/x-python",
   "name": "python",
   "nbconvert_exporter": "python",
   "pygments_lexer": "ipython3",
   "version": "3.7.1"
  }
 },
 "nbformat": 4,
 "nbformat_minor": 2
}
