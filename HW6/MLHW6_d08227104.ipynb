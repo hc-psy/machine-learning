{
 "cells": [
  {
   "cell_type": "code",
   "execution_count": null,
   "metadata": {},
   "outputs": [],
   "source": [
    "import numpy as np\n",
    "import math\n",
    "from random import *"
   ]
  },
  {
   "cell_type": "markdown",
   "metadata": {},
   "source": [
    "# PART I"
   ]
  },
  {
   "cell_type": "markdown",
   "metadata": {},
   "source": [
    "## Decision Tree w/ CART algorithm"
   ]
  },
  {
   "cell_type": "code",
   "execution_count": 2,
   "metadata": {},
   "outputs": [],
   "source": [
    "# basic ds = tree structure node...\n",
    "\n",
    "class NODE:\n",
    "    def __init__(self, val, idx):\n",
    "        self.val = val\n",
    "        self.idx = idx\n",
    "        self.sign = 0\n",
    "        self.left = None\n",
    "        self.right = None"
   ]
  },
  {
   "cell_type": "code",
   "execution_count": 27,
   "metadata": {},
   "outputs": [],
   "source": [
    "# CART algorithm\n",
    "\n",
    "class CART:\n",
    "    def __init__(self, train_data_path, test_data_path, show = 0):\n",
    "        # data loading\n",
    "        dta = np.loadtxt(train_data_path, dtype=np.float, delimiter=\" \")\n",
    "        numrow, numcol = np.shape(dta)\n",
    "\n",
    "        feature = dta[:,0:numcol-1]\n",
    "        label = dta[:,numcol-1]\n",
    "        self.model = self.DoingCART(feature,label)\n",
    "        if show == 1:\n",
    "            print(\"Ein =\",self.predCART(self.model, feature, label))\n",
    "            tdta = np.loadtxt(test_data_path, dtype=np.float, delimiter=\" \")\n",
    "            tnumrow, tnumcol = np.shape(tdta)\n",
    "            tfeature = tdta[:,0:tnumcol-1]\n",
    "            tlabel = tdta[:,tnumcol-1]\n",
    "            print(\"Eout =\",self.predCART(self.model, tfeature, tlabel))\n",
    "    \n",
    "    def ginical(self, label):\n",
    "        labelsize = np.shape(label)[0]\n",
    "        if labelsize == 0:\n",
    "            return 0\n",
    "        else:\n",
    "            return 1-(sum(label==1)/float(labelsize))**2-(sum(label==-1)/float(labelsize))**2\n",
    "    \n",
    "    def decisionStump(self, targetfeature, targetlabel):\n",
    "        '''\n",
    "        calculation of thetas, only n-1 thetas (not n+1)\n",
    "        (1) one of theta is inherent in cart_function (base case)\n",
    "        (2) the other theta is equivilent to -(1): theta x,x,x,x,x == x,x,x,x,x theta\n",
    "        '''\n",
    "        thetaArray = np.array([(targetfeature[i] + targetfeature[i + 1]) / 2 for i in range(0, targetfeature.shape[0] - 1)])\n",
    "        \n",
    "        currentBranchCriteria = float(\"inf\")\n",
    "        targetTheta = 0.0\n",
    "        for theta in thetaArray:\n",
    "            #np.where retures idx\n",
    "            LHS = targetlabel[np.where(targetfeature < theta)]\n",
    "            RHS = targetlabel[np.where(targetfeature >= theta)]\n",
    "            b = LHS.shape[0] * self.ginical(LHS) + RHS.shape[0] * self.ginical(RHS)\n",
    "            if currentBranchCriteria > b:\n",
    "                currentBranchCriteria = b\n",
    "                targetTheta = theta\n",
    "        return currentBranchCriteria, targetTheta\n",
    "    \n",
    "    def branch(self, feature, label):\n",
    "        sort_of_each_feature_idx = []\n",
    "        for i in range(feature.shape[1]):\n",
    "            sort_of_each_feature_idx.append(np.argsort(feature[:,i]))\n",
    "        \n",
    "        bestBranch = float(\"inf\")\n",
    "        bestIndex = -1\n",
    "        bestBranchVal = 0\n",
    "        for i in range(feature.shape[1]): # for each sorted feature\n",
    "            targetfeature = feature[sort_of_each_feature_idx[i],i]\n",
    "            targetlabel = label[sort_of_each_feature_idx[i]]\n",
    "            tempb,tempval = self.decisionStump(targetfeature,targetlabel)\n",
    "            if bestBranch > tempb:\n",
    "                bestBranch = tempb\n",
    "                bestIndex = i\n",
    "                bestBranchVal = tempval\n",
    "        '''\n",
    "        let's split\n",
    "        '''\n",
    "        LX=feature[np.where(feature[:,bestIndex]<bestBranchVal)]\n",
    "        LY=label[np.where(feature[:,bestIndex]<bestBranchVal)]\n",
    "        RX=feature[np.where(feature[:,bestIndex]>=bestBranchVal)]\n",
    "        RY=label[np.where(feature[:,bestIndex]>=bestBranchVal)]\n",
    "        \n",
    "        return LX,LY,RX,RY,bestIndex,bestBranchVal\n",
    "    \n",
    "    def DoingCART(self, feature, label):\n",
    "        if self.ginical(label) == 0:\n",
    "            leaf = NODE(-1,-1)\n",
    "            leaf.sign = label[0] #sign\n",
    "            #print(\"leaf\")\n",
    "            return leaf\n",
    "        LX,LY,RX,RY,bestIndex,bestBranchVal = self.branch(feature,label)\n",
    "        node = NODE(bestBranchVal,bestIndex) #val, idx\n",
    "        node.left = self.DoingCART(LX,LY) #l\n",
    "        node.right = self.DoingCART(RX,RY) #r\n",
    "        return node\n",
    "    \n",
    "    def predCART_onesample(self, root, onex):\n",
    "        if root.idx == -1:\n",
    "            return root.sign\n",
    "        if onex[root.idx] < root.val:\n",
    "            return self.predCART_onesample(root.left, onex)\n",
    "        else:\n",
    "            return self.predCART_onesample(root.right, onex)\n",
    "    \n",
    "    def predCART(self, root, feature, label):\n",
    "        count = 0\n",
    "        for i in range(np.shape(feature)[0]):\n",
    "            count += 1 if self.predCART_onesample(root, feature[i]) != label[i] else 0\n",
    "        return float(count)/np.shape(feature)[0]"
   ]
  },
  {
   "cell_type": "markdown",
   "metadata": {},
   "source": [
    "## Problem 14\n",
    "\n",
    "my answer = [c]"
   ]
  },
  {
   "cell_type": "code",
   "execution_count": 30,
   "metadata": {},
   "outputs": [
    {
     "name": "stdout",
     "output_type": "stream",
     "text": [
      "Ein = 0.0\n",
      "Eout = 0.166\n"
     ]
    }
   ],
   "source": [
    "DT = CART(\"hw6_train.txt\",\"hw6_test.txt\",1)"
   ]
  },
  {
   "cell_type": "markdown",
   "metadata": {},
   "source": [
    "### Validate *My Answer* with package"
   ]
  },
  {
   "cell_type": "code",
   "execution_count": 61,
   "metadata": {},
   "outputs": [
    {
     "name": "stdout",
     "output_type": "stream",
     "text": [
      "Eout = 0.176\n"
     ]
    }
   ],
   "source": [
    "from sklearn.tree import DecisionTreeClassifier\n",
    "\n",
    "# training data\n",
    "dta = np.loadtxt(\"hw6_train.txt\", dtype=np.float, delimiter=\" \")\n",
    "numrow, numcol = np.shape(dta)\n",
    "feature = dta[:,0:numcol-1]\n",
    "label = dta[:,numcol-1]\n",
    "\n",
    "#testing data\n",
    "tdta = np.loadtxt(\"hw6_test.txt\", dtype=np.float, delimiter=\" \")\n",
    "tnumrow, tnumcol = np.shape(tdta)\n",
    "tfeature = tdta[:,0:tnumcol-1]\n",
    "tlabel = tdta[:,tnumcol-1]\n",
    "\n",
    "# Fit regression model\n",
    "regr_1 = DecisionTreeClassifier(max_depth=2000)\n",
    "regr_1.fit(feature, label)\n",
    "\n",
    "# Predict\n",
    "y_1 = regr_1.predict(tfeature)\n",
    "print(\"Eout =\", sum(y_1!=tlabel)/1000)"
   ]
  },
  {
   "cell_type": "markdown",
   "metadata": {},
   "source": [
    "# PART II"
   ]
  },
  {
   "cell_type": "markdown",
   "metadata": {},
   "source": [
    "## Random Forest"
   ]
  },
  {
   "cell_type": "code",
   "execution_count": 48,
   "metadata": {},
   "outputs": [],
   "source": [
    "# revised CART for random forest\n",
    "def ginical(label):\n",
    "    labelsize = np.shape(label)[0]\n",
    "    if labelsize == 0:\n",
    "        return 0\n",
    "    else:\n",
    "        return 1-(sum(label==1)/float(labelsize))**2-(sum(label==-1)/float(labelsize))**2\n",
    "\n",
    "def decisionStump(targetfeature, targetlabel):\n",
    "    '''\n",
    "    calculation of thetas, only n-1 thetas (not n+1)\n",
    "    (1) one of theta is inherent in cart_function (base case)\n",
    "    (2) the other theta is equivilent to -(1): theta x,x,x,x,x == x,x,x,x,x theta\n",
    "    '''\n",
    "    thetaArray = np.array([(targetfeature[i] + targetfeature[i + 1]) / 2 for i in range(0, targetfeature.shape[0] - 1)])\n",
    "\n",
    "    currentBranchCriteria = float(\"inf\")\n",
    "    targetTheta = 0.0\n",
    "    for theta in thetaArray:\n",
    "        #np.where retures idx\n",
    "        LHS = targetlabel[np.where(targetfeature < theta)]\n",
    "        RHS = targetlabel[np.where(targetfeature >= theta)]\n",
    "        b = LHS.shape[0] * ginical(LHS) + RHS.shape[0] * ginical(RHS)\n",
    "        if currentBranchCriteria > b:\n",
    "            currentBranchCriteria = b\n",
    "            targetTheta = theta\n",
    "    return currentBranchCriteria, targetTheta\n",
    "\n",
    "def branch(feature, label):\n",
    "    sort_of_each_feature_idx = []\n",
    "    for i in range(feature.shape[1]):\n",
    "        sort_of_each_feature_idx.append(np.argsort(feature[:,i]))\n",
    "\n",
    "    bestBranch = float(\"inf\")\n",
    "    bestIndex = -1\n",
    "    bestBranchVal = 0\n",
    "    for i in range(feature.shape[1]): # for each sorted feature\n",
    "        targetfeature = feature[sort_of_each_feature_idx[i],i]\n",
    "        targetlabel = label[sort_of_each_feature_idx[i]]\n",
    "        tempb,tempval = decisionStump(targetfeature,targetlabel)\n",
    "        if bestBranch > tempb:\n",
    "            bestBranch = tempb\n",
    "            bestIndex = i\n",
    "            bestBranchVal = tempval\n",
    "    '''\n",
    "    let's split\n",
    "    '''\n",
    "    LX=feature[np.where(feature[:,bestIndex]<bestBranchVal)]\n",
    "    LY=label[np.where(feature[:,bestIndex]<bestBranchVal)]\n",
    "    RX=feature[np.where(feature[:,bestIndex]>=bestBranchVal)]\n",
    "    RY=label[np.where(feature[:,bestIndex]>=bestBranchVal)]\n",
    "\n",
    "    return LX,LY,RX,RY,bestIndex,bestBranchVal\n",
    "\n",
    "def DoingCART(feature, label):\n",
    "    if ginical(label) == 0:\n",
    "        leaf = NODE(-1,-1)\n",
    "        leaf.sign = label[0] #sign\n",
    "        #print(\"leaf\")\n",
    "        return leaf\n",
    "    LX,LY,RX,RY,bestIndex,bestBranchVal = branch(feature,label)\n",
    "    node = NODE(bestBranchVal,bestIndex) #val, idx\n",
    "    node.left = DoingCART(LX,LY) #l\n",
    "    node.right = DoingCART(RX,RY) #r\n",
    "    return node\n",
    "\n",
    "def predCART_onesample(root, onex):\n",
    "    if root.idx == -1:\n",
    "        return root.sign\n",
    "    if onex[root.idx] < root.val:\n",
    "        return predCART_onesample(root.left, onex)\n",
    "    else:\n",
    "        return predCART_onesample(root.right, onex)\n",
    "\n",
    "def predCART(root, feature, label):\n",
    "    count = 0\n",
    "    for i in range(np.shape(feature)[0]):\n",
    "        count += 1 if predCART_onesample(root, feature[i]) != label[i] else 0\n",
    "    return float(count)/np.shape(feature)[0]"
   ]
  },
  {
   "cell_type": "code",
   "execution_count": 49,
   "metadata": {},
   "outputs": [],
   "source": [
    "# bootstrapmatrix row:T col:idx\n",
    "\n",
    "bootstrapMatrix = []\n",
    "for i in range(2000):\n",
    "    bootstrapMatrix.append(choices(range(0,1000),k=500))"
   ]
  },
  {
   "cell_type": "code",
   "execution_count": 67,
   "metadata": {},
   "outputs": [],
   "source": [
    "from operator import itemgetter\n",
    "# training data\n",
    "dta = np.loadtxt(\"hw6_train.txt\", dtype=np.float, delimiter=\" \")\n",
    "numrow, numcol = np.shape(dta)\n",
    "trainfeature = dta[:,0:numcol-1]\n",
    "trainlabel = dta[:,numcol-1]\n",
    "\n",
    "#testing data\n",
    "tdta = np.loadtxt(\"hw6_test.txt\", dtype=np.float, delimiter=\" \")\n",
    "tnumrow, tnumcol = np.shape(tdta)\n",
    "testfeature = tdta[:,0:tnumcol-1]\n",
    "testlabel = tdta[:,tnumcol-1]"
   ]
  },
  {
   "cell_type": "markdown",
   "metadata": {},
   "source": [
    "## Problem 15\n",
    "\n",
    "my answer = [d]"
   ]
  },
  {
   "cell_type": "code",
   "execution_count": 69,
   "metadata": {},
   "outputs": [],
   "source": [
    "def RF(T):\n",
    "    error = 0\n",
    "    forest = []\n",
    "    for i in range(T):\n",
    "        x = np.array(list(itemgetter(*bootstrapMatrix[i])(trainfeature)))\n",
    "        y = np.array(list(itemgetter(*bootstrapMatrix[i])(trainlabel)))\n",
    "        model = DoingCART(x,y)\n",
    "        error += predCART(model,testfeature,testlabel)\n",
    "        forest.append(model)\n",
    "    return error/float(T), forest"
   ]
  },
  {
   "cell_type": "code",
   "execution_count": 70,
   "metadata": {},
   "outputs": [
    {
     "name": "stdout",
     "output_type": "stream",
     "text": [
      "0.2341425000000003\n"
     ]
    }
   ],
   "source": [
    "error, forest = RF(2000)\n",
    "print(error)"
   ]
  },
  {
   "cell_type": "code",
   "execution_count": null,
   "metadata": {},
   "outputs": [],
   "source": [
    "'''def RandomForest(T):\n",
    "    error = 0\n",
    "    forest = []\n",
    "    for i in range(T):\n",
    "        x = np.array(list(itemgetter(*bootstrapMatrix[i])(trainfeature)))\n",
    "        y = np.array(list(itemgetter(*bootstrapMatrix[i])(trainlabel)))\n",
    "        model = DecisionTreeClassifier(max_depth=2000)\n",
    "        model.fit(x, y)\n",
    "        \n",
    "        # Predict\n",
    "        y_1 = model.predict(testfeature)\n",
    "        error += sum(y_1!=testlabel)/1000\n",
    "        forest.append(model)\n",
    "    return error/float(T), forest\n",
    "\n",
    "err, forest = RandomForest(2000)'''"
   ]
  },
  {
   "cell_type": "markdown",
   "metadata": {},
   "source": [
    "## Problem 16\n",
    "\n",
    "my answer = [a]"
   ]
  },
  {
   "cell_type": "code",
   "execution_count": 77,
   "metadata": {},
   "outputs": [
    {
     "name": "stdout",
     "output_type": "stream",
     "text": [
      "0.016\n"
     ]
    }
   ],
   "source": [
    "def RF_predict(Forest, feature):\n",
    "    pos=0\n",
    "    neg=0\n",
    "    for tree in Forest:\n",
    "        predict_label = tree.predict([feature])\n",
    "        if predict_label[0] == 1:\n",
    "            pos += 1\n",
    "        else:\n",
    "            neg += 1\n",
    "    return (1 if pos > neg else -1)\n",
    "\n",
    "def cal_RF_error(Forest, feature, label):\n",
    "    m = np.shape(feature)[0]\n",
    "    error = 0\n",
    "    for i in range(m):\n",
    "        predict_label = RF_predict(Forest, feature[i])\n",
    "        error += (1 if predict_label!=label[i] else 0)\n",
    "    return float(error)/m\n",
    "\n",
    "print(cal_RF_error(forest, trainfeature, trainlabel))"
   ]
  },
  {
   "cell_type": "markdown",
   "metadata": {},
   "source": [
    "## Problem 17\n",
    "\n",
    "my answer = [d]"
   ]
  },
  {
   "cell_type": "code",
   "execution_count": 78,
   "metadata": {},
   "outputs": [
    {
     "name": "stdout",
     "output_type": "stream",
     "text": [
      "0.16\n"
     ]
    }
   ],
   "source": [
    "print(cal_RF_error(forest, testfeature, testlabel))"
   ]
  },
  {
   "cell_type": "markdown",
   "metadata": {},
   "source": [
    "## Problem 18\n",
    "\n",
    "my answer = [b]"
   ]
  },
  {
   "cell_type": "code",
   "execution_count": 81,
   "metadata": {},
   "outputs": [
    {
     "name": "stdout",
     "output_type": "stream",
     "text": [
      "0.075\n"
     ]
    }
   ],
   "source": [
    "def RF_predict_OOB(Forest, feature, idx):\n",
    "    pos=0\n",
    "    neg=0\n",
    "    for key, tree in enumerate(Forest):\n",
    "        if idx not in bootstrapMatrix[key]:\n",
    "            predict_label = tree.predict([feature])\n",
    "            if predict_label[0] == 1:\n",
    "                pos += 1\n",
    "            else:\n",
    "                neg += 1\n",
    "    return (1 if pos > neg else -1)\n",
    "\n",
    "def cal_RF_error_OOB(Forest, feature, label):\n",
    "    m = np.shape(feature)[0]\n",
    "    error = 0\n",
    "    for i in range(m):\n",
    "        predict_label = RF_predict_OOB(Forest, feature[i], i)\n",
    "        error += (1 if predict_label!=label[i] else 0)\n",
    "    return float(error)/m\n",
    "\n",
    "print(cal_RF_error_OOB(forest, trainfeature, trainlabel))"
   ]
  },
  {
   "cell_type": "code",
   "execution_count": null,
   "metadata": {},
   "outputs": [],
   "source": []
  }
 ],
 "metadata": {
  "kernelspec": {
   "display_name": "Python 3",
   "language": "python",
   "name": "python3"
  },
  "language_info": {
   "codemirror_mode": {
    "name": "ipython",
    "version": 3
   },
   "file_extension": ".py",
   "mimetype": "text/x-python",
   "name": "python",
   "nbconvert_exporter": "python",
   "pygments_lexer": "ipython3",
   "version": "3.7.1"
  }
 },
 "nbformat": 4,
 "nbformat_minor": 2
}
